{
 "cells": [
  {
   "cell_type": "code",
   "execution_count": 1,
   "id": "17b99ecb",
   "metadata": {
    "_cell_guid": "b1076dfc-b9ad-4769-8c92-a6c4dae69d19",
    "_uuid": "8f2839f25d086af736a60e9eeb907d3b93b6e0e5",
    "execution": {
     "iopub.execute_input": "2023-10-31T07:59:36.736723Z",
     "iopub.status.busy": "2023-10-31T07:59:36.736350Z",
     "iopub.status.idle": "2023-10-31T07:59:38.623978Z",
     "shell.execute_reply": "2023-10-31T07:59:38.622507Z"
    },
    "papermill": {
     "duration": 1.89562,
     "end_time": "2023-10-31T07:59:38.626743",
     "exception": false,
     "start_time": "2023-10-31T07:59:36.731123",
     "status": "completed"
    },
    "tags": []
   },
   "outputs": [],
   "source": [
    "import pandas as pd\n",
    "from sklearn.model_selection import train_test_split\n",
    "from sklearn.preprocessing import StandardScaler\n",
    "from xgboost import XGBClassifier  # Import XGBoost classifier\n",
    "from sklearn.metrics import accuracy_score"
   ]
  },
  {
   "cell_type": "code",
   "execution_count": 2,
   "id": "7ed525a6",
   "metadata": {
    "execution": {
     "iopub.execute_input": "2023-10-31T07:59:38.637212Z",
     "iopub.status.busy": "2023-10-31T07:59:38.636625Z",
     "iopub.status.idle": "2023-10-31T07:59:38.642514Z",
     "shell.execute_reply": "2023-10-31T07:59:38.641400Z"
    },
    "papermill": {
     "duration": 0.012588,
     "end_time": "2023-10-31T07:59:38.644725",
     "exception": false,
     "start_time": "2023-10-31T07:59:38.632137",
     "status": "completed"
    },
    "tags": []
   },
   "outputs": [],
   "source": [
    "# Define a dictionary to map genre names to numerical labels\n",
    "genre_label_mapping = {\n",
    "    'blues': 0,\n",
    "    'classical': 1,\n",
    "    'country': 2,\n",
    "    'disco': 3,\n",
    "    'hiphop': 4,\n",
    "    'jazz': 5,\n",
    "    'metal': 6,\n",
    "    'pop': 7,\n",
    "    'reggae': 8,\n",
    "    'rock': 9\n",
    "}"
   ]
  },
  {
   "cell_type": "code",
   "execution_count": 3,
   "id": "320ad697",
   "metadata": {
    "execution": {
     "iopub.execute_input": "2023-10-31T07:59:38.652051Z",
     "iopub.status.busy": "2023-10-31T07:59:38.651641Z",
     "iopub.status.idle": "2023-10-31T07:59:38.895168Z",
     "shell.execute_reply": "2023-10-31T07:59:38.893279Z"
    },
    "papermill": {
     "duration": 0.250418,
     "end_time": "2023-10-31T07:59:38.898147",
     "exception": false,
     "start_time": "2023-10-31T07:59:38.647729",
     "status": "completed"
    },
    "tags": []
   },
   "outputs": [],
   "source": [
    "# Step 1: Read the train.csv and test.csv files\n",
    "train_data = pd.read_csv(\"/kaggle/input/pes-ec-mi-competition-a/train.csv\")\n",
    "test_data = pd.read_csv(\"/kaggle/input/pes-ec-mi-competition-a/test.csv\")\n"
   ]
  },
  {
   "cell_type": "code",
   "execution_count": 4,
   "id": "a34b38d7",
   "metadata": {
    "execution": {
     "iopub.execute_input": "2023-10-31T07:59:38.905861Z",
     "iopub.status.busy": "2023-10-31T07:59:38.905481Z",
     "iopub.status.idle": "2023-10-31T07:59:38.926472Z",
     "shell.execute_reply": "2023-10-31T07:59:38.925174Z"
    },
    "papermill": {
     "duration": 0.027543,
     "end_time": "2023-10-31T07:59:38.928797",
     "exception": false,
     "start_time": "2023-10-31T07:59:38.901254",
     "status": "completed"
    },
    "tags": []
   },
   "outputs": [],
   "source": [
    "# Step 2: Data Preprocessing\n",
    "# Replace genre names in the \"label\" column of the train_data DataFrame with numerical labels\n",
    "train_data['label'] = train_data['label'].map(genre_label_mapping)\n"
   ]
  },
  {
   "cell_type": "code",
   "execution_count": 5,
   "id": "94e558fa",
   "metadata": {
    "execution": {
     "iopub.execute_input": "2023-10-31T07:59:38.937595Z",
     "iopub.status.busy": "2023-10-31T07:59:38.936275Z",
     "iopub.status.idle": "2023-10-31T07:59:38.948621Z",
     "shell.execute_reply": "2023-10-31T07:59:38.947033Z"
    },
    "papermill": {
     "duration": 0.019495,
     "end_time": "2023-10-31T07:59:38.951600",
     "exception": false,
     "start_time": "2023-10-31T07:59:38.932105",
     "status": "completed"
    },
    "tags": []
   },
   "outputs": [],
   "source": [
    "\n",
    "# Extract features and labels from the train_data DataFrame\n",
    "X = train_data.drop([\"filename\", \"label\"], axis=1)  # Remove non-feature columns\n",
    "y = train_data[\"label\"]  # Extract the labels"
   ]
  },
  {
   "cell_type": "code",
   "execution_count": 6,
   "id": "0cb8851e",
   "metadata": {
    "execution": {
     "iopub.execute_input": "2023-10-31T07:59:38.959501Z",
     "iopub.status.busy": "2023-10-31T07:59:38.959051Z",
     "iopub.status.idle": "2023-10-31T07:59:38.985941Z",
     "shell.execute_reply": "2023-10-31T07:59:38.984834Z"
    },
    "papermill": {
     "duration": 0.033596,
     "end_time": "2023-10-31T07:59:38.988376",
     "exception": false,
     "start_time": "2023-10-31T07:59:38.954780",
     "status": "completed"
    },
    "tags": []
   },
   "outputs": [],
   "source": [
    "\n",
    "# Split the training data into training and validation sets\n",
    "X_train, X_val, y_train, y_val = train_test_split(X, y, test_size=0.2, random_state=42)\n",
    "\n",
    "# Standardize the features (mean = 0, standard deviation = 1)\n",
    "scaler = StandardScaler()\n",
    "X_train = scaler.fit_transform(X_train)\n",
    "X_val = scaler.transform(X_val)"
   ]
  },
  {
   "cell_type": "code",
   "execution_count": 7,
   "id": "20dcfeb2",
   "metadata": {
    "execution": {
     "iopub.execute_input": "2023-10-31T07:59:38.996173Z",
     "iopub.status.busy": "2023-10-31T07:59:38.995797Z",
     "iopub.status.idle": "2023-10-31T08:00:02.211400Z",
     "shell.execute_reply": "2023-10-31T08:00:02.209616Z"
    },
    "papermill": {
     "duration": 23.222332,
     "end_time": "2023-10-31T08:00:02.213818",
     "exception": false,
     "start_time": "2023-10-31T07:59:38.991486",
     "status": "completed"
    },
    "tags": []
   },
   "outputs": [
    {
     "data": {
      "text/html": [
       "<style>#sk-container-id-1 {color: black;background-color: white;}#sk-container-id-1 pre{padding: 0;}#sk-container-id-1 div.sk-toggleable {background-color: white;}#sk-container-id-1 label.sk-toggleable__label {cursor: pointer;display: block;width: 100%;margin-bottom: 0;padding: 0.3em;box-sizing: border-box;text-align: center;}#sk-container-id-1 label.sk-toggleable__label-arrow:before {content: \"▸\";float: left;margin-right: 0.25em;color: #696969;}#sk-container-id-1 label.sk-toggleable__label-arrow:hover:before {color: black;}#sk-container-id-1 div.sk-estimator:hover label.sk-toggleable__label-arrow:before {color: black;}#sk-container-id-1 div.sk-toggleable__content {max-height: 0;max-width: 0;overflow: hidden;text-align: left;background-color: #f0f8ff;}#sk-container-id-1 div.sk-toggleable__content pre {margin: 0.2em;color: black;border-radius: 0.25em;background-color: #f0f8ff;}#sk-container-id-1 input.sk-toggleable__control:checked~div.sk-toggleable__content {max-height: 200px;max-width: 100%;overflow: auto;}#sk-container-id-1 input.sk-toggleable__control:checked~label.sk-toggleable__label-arrow:before {content: \"▾\";}#sk-container-id-1 div.sk-estimator input.sk-toggleable__control:checked~label.sk-toggleable__label {background-color: #d4ebff;}#sk-container-id-1 div.sk-label input.sk-toggleable__control:checked~label.sk-toggleable__label {background-color: #d4ebff;}#sk-container-id-1 input.sk-hidden--visually {border: 0;clip: rect(1px 1px 1px 1px);clip: rect(1px, 1px, 1px, 1px);height: 1px;margin: -1px;overflow: hidden;padding: 0;position: absolute;width: 1px;}#sk-container-id-1 div.sk-estimator {font-family: monospace;background-color: #f0f8ff;border: 1px dotted black;border-radius: 0.25em;box-sizing: border-box;margin-bottom: 0.5em;}#sk-container-id-1 div.sk-estimator:hover {background-color: #d4ebff;}#sk-container-id-1 div.sk-parallel-item::after {content: \"\";width: 100%;border-bottom: 1px solid gray;flex-grow: 1;}#sk-container-id-1 div.sk-label:hover label.sk-toggleable__label {background-color: #d4ebff;}#sk-container-id-1 div.sk-serial::before {content: \"\";position: absolute;border-left: 1px solid gray;box-sizing: border-box;top: 0;bottom: 0;left: 50%;z-index: 0;}#sk-container-id-1 div.sk-serial {display: flex;flex-direction: column;align-items: center;background-color: white;padding-right: 0.2em;padding-left: 0.2em;position: relative;}#sk-container-id-1 div.sk-item {position: relative;z-index: 1;}#sk-container-id-1 div.sk-parallel {display: flex;align-items: stretch;justify-content: center;background-color: white;position: relative;}#sk-container-id-1 div.sk-item::before, #sk-container-id-1 div.sk-parallel-item::before {content: \"\";position: absolute;border-left: 1px solid gray;box-sizing: border-box;top: 0;bottom: 0;left: 50%;z-index: -1;}#sk-container-id-1 div.sk-parallel-item {display: flex;flex-direction: column;z-index: 1;position: relative;background-color: white;}#sk-container-id-1 div.sk-parallel-item:first-child::after {align-self: flex-end;width: 50%;}#sk-container-id-1 div.sk-parallel-item:last-child::after {align-self: flex-start;width: 50%;}#sk-container-id-1 div.sk-parallel-item:only-child::after {width: 0;}#sk-container-id-1 div.sk-dashed-wrapped {border: 1px dashed gray;margin: 0 0.4em 0.5em 0.4em;box-sizing: border-box;padding-bottom: 0.4em;background-color: white;}#sk-container-id-1 div.sk-label label {font-family: monospace;font-weight: bold;display: inline-block;line-height: 1.2em;}#sk-container-id-1 div.sk-label-container {text-align: center;}#sk-container-id-1 div.sk-container {/* jupyter's `normalize.less` sets `[hidden] { display: none; }` but bootstrap.min.css set `[hidden] { display: none !important; }` so we also need the `!important` here to be able to override the default hidden behavior on the sphinx rendered scikit-learn.org. See: https://github.com/scikit-learn/scikit-learn/issues/21755 */display: inline-block !important;position: relative;}#sk-container-id-1 div.sk-text-repr-fallback {display: none;}</style><div id=\"sk-container-id-1\" class=\"sk-top-container\"><div class=\"sk-text-repr-fallback\"><pre>XGBClassifier(base_score=None, booster=None, callbacks=None,\n",
       "              colsample_bylevel=None, colsample_bynode=None,\n",
       "              colsample_bytree=None, early_stopping_rounds=None,\n",
       "              enable_categorical=False, eval_metric=None, feature_types=None,\n",
       "              gamma=None, gpu_id=None, grow_policy=None, importance_type=None,\n",
       "              interaction_constraints=None, learning_rate=None, max_bin=None,\n",
       "              max_cat_threshold=None, max_cat_to_onehot=None,\n",
       "              max_delta_step=None, max_depth=None, max_leaves=None,\n",
       "              min_child_weight=None, missing=nan, monotone_constraints=None,\n",
       "              n_estimators=100, n_jobs=None, num_parallel_tree=None,\n",
       "              objective=&#x27;multi:softprob&#x27;, predictor=None, ...)</pre><b>In a Jupyter environment, please rerun this cell to show the HTML representation or trust the notebook. <br />On GitHub, the HTML representation is unable to render, please try loading this page with nbviewer.org.</b></div><div class=\"sk-container\" hidden><div class=\"sk-item\"><div class=\"sk-estimator sk-toggleable\"><input class=\"sk-toggleable__control sk-hidden--visually\" id=\"sk-estimator-id-1\" type=\"checkbox\" checked><label for=\"sk-estimator-id-1\" class=\"sk-toggleable__label sk-toggleable__label-arrow\">XGBClassifier</label><div class=\"sk-toggleable__content\"><pre>XGBClassifier(base_score=None, booster=None, callbacks=None,\n",
       "              colsample_bylevel=None, colsample_bynode=None,\n",
       "              colsample_bytree=None, early_stopping_rounds=None,\n",
       "              enable_categorical=False, eval_metric=None, feature_types=None,\n",
       "              gamma=None, gpu_id=None, grow_policy=None, importance_type=None,\n",
       "              interaction_constraints=None, learning_rate=None, max_bin=None,\n",
       "              max_cat_threshold=None, max_cat_to_onehot=None,\n",
       "              max_delta_step=None, max_depth=None, max_leaves=None,\n",
       "              min_child_weight=None, missing=nan, monotone_constraints=None,\n",
       "              n_estimators=100, n_jobs=None, num_parallel_tree=None,\n",
       "              objective=&#x27;multi:softprob&#x27;, predictor=None, ...)</pre></div></div></div></div></div>"
      ],
      "text/plain": [
       "XGBClassifier(base_score=None, booster=None, callbacks=None,\n",
       "              colsample_bylevel=None, colsample_bynode=None,\n",
       "              colsample_bytree=None, early_stopping_rounds=None,\n",
       "              enable_categorical=False, eval_metric=None, feature_types=None,\n",
       "              gamma=None, gpu_id=None, grow_policy=None, importance_type=None,\n",
       "              interaction_constraints=None, learning_rate=None, max_bin=None,\n",
       "              max_cat_threshold=None, max_cat_to_onehot=None,\n",
       "              max_delta_step=None, max_depth=None, max_leaves=None,\n",
       "              min_child_weight=None, missing=nan, monotone_constraints=None,\n",
       "              n_estimators=100, n_jobs=None, num_parallel_tree=None,\n",
       "              objective='multi:softprob', predictor=None, ...)"
      ]
     },
     "execution_count": 7,
     "metadata": {},
     "output_type": "execute_result"
    }
   ],
   "source": [
    "\n",
    "# Step 3: Model Training using XGBoost Classifier\n",
    "# Create and train an XGBoost classifier\n",
    "xgb_classifier = XGBClassifier(n_estimators=100, random_state=42)\n",
    "xgb_classifier.fit(X_train, y_train)\n"
   ]
  },
  {
   "cell_type": "code",
   "execution_count": 8,
   "id": "bd860586",
   "metadata": {
    "execution": {
     "iopub.execute_input": "2023-10-31T08:00:02.221874Z",
     "iopub.status.busy": "2023-10-31T08:00:02.221524Z",
     "iopub.status.idle": "2023-10-31T08:00:02.252136Z",
     "shell.execute_reply": "2023-10-31T08:00:02.251149Z"
    },
    "papermill": {
     "duration": 0.037825,
     "end_time": "2023-10-31T08:00:02.255053",
     "exception": false,
     "start_time": "2023-10-31T08:00:02.217228",
     "status": "completed"
    },
    "tags": []
   },
   "outputs": [],
   "source": [
    "# Step 4: Make Predictions\n",
    "# Use the trained model to make predictions on the validation set\n",
    "y_pred = xgb_classifier.predict(X_val)"
   ]
  },
  {
   "cell_type": "code",
   "execution_count": 9,
   "id": "80974d20",
   "metadata": {
    "execution": {
     "iopub.execute_input": "2023-10-31T08:00:02.263547Z",
     "iopub.status.busy": "2023-10-31T08:00:02.263027Z",
     "iopub.status.idle": "2023-10-31T08:00:02.269173Z",
     "shell.execute_reply": "2023-10-31T08:00:02.267990Z"
    },
    "papermill": {
     "duration": 0.013416,
     "end_time": "2023-10-31T08:00:02.271932",
     "exception": false,
     "start_time": "2023-10-31T08:00:02.258516",
     "status": "completed"
    },
    "tags": []
   },
   "outputs": [
    {
     "name": "stdout",
     "output_type": "stream",
     "text": [
      "Validation Set Accuracy: 0.8943857698721512\n"
     ]
    }
   ],
   "source": [
    "# Step 5: Evaluate the Model\n",
    "# Calculate accuracy on the validation set\n",
    "accuracy = accuracy_score(y_val, y_pred)\n",
    "print(\"Validation Set Accuracy:\", accuracy)"
   ]
  },
  {
   "cell_type": "code",
   "execution_count": 10,
   "id": "73a412b0",
   "metadata": {
    "execution": {
     "iopub.execute_input": "2023-10-31T08:00:02.281188Z",
     "iopub.status.busy": "2023-10-31T08:00:02.280724Z",
     "iopub.status.idle": "2023-10-31T08:00:02.304702Z",
     "shell.execute_reply": "2023-10-31T08:00:02.303089Z"
    },
    "papermill": {
     "duration": 0.03208,
     "end_time": "2023-10-31T08:00:02.307913",
     "exception": false,
     "start_time": "2023-10-31T08:00:02.275833",
     "status": "completed"
    },
    "tags": []
   },
   "outputs": [],
   "source": [
    "\n",
    "# Step 6: Model Inference\n",
    "# Apply the trained model to the test data to make predictions\n",
    "X_test = test_data.drop([\"id\"], axis=1)  # Remove non-feature columns\n",
    "X_test = scaler.transform(X_test)  # Standardize the test data\n",
    "test_predictions = xgb_classifier.predict(X_test)"
   ]
  },
  {
   "cell_type": "code",
   "execution_count": 11,
   "id": "45ac6ef7",
   "metadata": {
    "execution": {
     "iopub.execute_input": "2023-10-31T08:00:02.317553Z",
     "iopub.status.busy": "2023-10-31T08:00:02.317132Z",
     "iopub.status.idle": "2023-10-31T08:00:02.328445Z",
     "shell.execute_reply": "2023-10-31T08:00:02.326910Z"
    },
    "papermill": {
     "duration": 0.019319,
     "end_time": "2023-10-31T08:00:02.331187",
     "exception": false,
     "start_time": "2023-10-31T08:00:02.311868",
     "status": "completed"
    },
    "tags": []
   },
   "outputs": [],
   "source": [
    "# Step 7: Create a Submission File\n",
    "submission_df = pd.DataFrame({\"id\": test_data[\"id\"], \"label\": test_predictions})\n",
    "submission_df.to_csv(\"submission.csv\", index=False)"
   ]
  }
 ],
 "metadata": {
  "kernelspec": {
   "display_name": "Python 3",
   "language": "python",
   "name": "python3"
  },
  "language_info": {
   "codemirror_mode": {
    "name": "ipython",
    "version": 3
   },
   "file_extension": ".py",
   "mimetype": "text/x-python",
   "name": "python",
   "nbconvert_exporter": "python",
   "pygments_lexer": "ipython3",
   "version": "3.10.12"
  },
  "papermill": {
   "default_parameters": {},
   "duration": 29.241528,
   "end_time": "2023-10-31T08:00:03.057375",
   "environment_variables": {},
   "exception": null,
   "input_path": "__notebook__.ipynb",
   "output_path": "__notebook__.ipynb",
   "parameters": {},
   "start_time": "2023-10-31T07:59:33.815847",
   "version": "2.4.0"
  }
 },
 "nbformat": 4,
 "nbformat_minor": 5
}
